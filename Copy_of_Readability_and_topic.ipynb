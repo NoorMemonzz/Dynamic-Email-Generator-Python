{
  "nbformat": 4,
  "nbformat_minor": 0,
  "metadata": {
    "colab": {
      "provenance": [],
      "authorship_tag": "ABX9TyPqDskwh1eAnLPguVESmSAy",
      "include_colab_link": true
    },
    "kernelspec": {
      "name": "python3",
      "display_name": "Python 3"
    },
    "language_info": {
      "name": "python"
    }
  },
  "cells": [
    {
      "cell_type": "markdown",
      "metadata": {
        "id": "view-in-github",
        "colab_type": "text"
      },
      "source": [
        "<a href=\"https://colab.research.google.com/github/NoorMemonzz/Dynamic-Email-Generator-Python/blob/main/Copy_of_Readability_and_topic.ipynb\" target=\"_parent\"><img src=\"https://colab.research.google.com/assets/colab-badge.svg\" alt=\"Open In Colab\"/></a>"
      ]
    },
    {
      "cell_type": "code",
      "execution_count": null,
      "metadata": {
        "colab": {
          "base_uri": "https://localhost:8080/",
          "height": 306
        },
        "id": "1TxlJrE3ZmPu",
        "outputId": "2d9a4d7c-7ee2-408c-d2ba-58a056948a64"
      },
      "outputs": [
        {
          "output_type": "display_data",
          "data": {
            "text/plain": [
              "<IPython.core.display.HTML object>"
            ],
            "text/html": [
              "\n",
              "     <input type=\"file\" id=\"files-095a2950-4841-4bc5-bd39-83748fdac7a6\" name=\"files[]\" multiple disabled\n",
              "        style=\"border:none\" />\n",
              "     <output id=\"result-095a2950-4841-4bc5-bd39-83748fdac7a6\">\n",
              "      Upload widget is only available when the cell has been executed in the\n",
              "      current browser session. Please rerun this cell to enable.\n",
              "      </output>\n",
              "      <script>// Copyright 2017 Google LLC\n",
              "//\n",
              "// Licensed under the Apache License, Version 2.0 (the \"License\");\n",
              "// you may not use this file except in compliance with the License.\n",
              "// You may obtain a copy of the License at\n",
              "//\n",
              "//      http://www.apache.org/licenses/LICENSE-2.0\n",
              "//\n",
              "// Unless required by applicable law or agreed to in writing, software\n",
              "// distributed under the License is distributed on an \"AS IS\" BASIS,\n",
              "// WITHOUT WARRANTIES OR CONDITIONS OF ANY KIND, either express or implied.\n",
              "// See the License for the specific language governing permissions and\n",
              "// limitations under the License.\n",
              "\n",
              "/**\n",
              " * @fileoverview Helpers for google.colab Python module.\n",
              " */\n",
              "(function(scope) {\n",
              "function span(text, styleAttributes = {}) {\n",
              "  const element = document.createElement('span');\n",
              "  element.textContent = text;\n",
              "  for (const key of Object.keys(styleAttributes)) {\n",
              "    element.style[key] = styleAttributes[key];\n",
              "  }\n",
              "  return element;\n",
              "}\n",
              "\n",
              "// Max number of bytes which will be uploaded at a time.\n",
              "const MAX_PAYLOAD_SIZE = 100 * 1024;\n",
              "\n",
              "function _uploadFiles(inputId, outputId) {\n",
              "  const steps = uploadFilesStep(inputId, outputId);\n",
              "  const outputElement = document.getElementById(outputId);\n",
              "  // Cache steps on the outputElement to make it available for the next call\n",
              "  // to uploadFilesContinue from Python.\n",
              "  outputElement.steps = steps;\n",
              "\n",
              "  return _uploadFilesContinue(outputId);\n",
              "}\n",
              "\n",
              "// This is roughly an async generator (not supported in the browser yet),\n",
              "// where there are multiple asynchronous steps and the Python side is going\n",
              "// to poll for completion of each step.\n",
              "// This uses a Promise to block the python side on completion of each step,\n",
              "// then passes the result of the previous step as the input to the next step.\n",
              "function _uploadFilesContinue(outputId) {\n",
              "  const outputElement = document.getElementById(outputId);\n",
              "  const steps = outputElement.steps;\n",
              "\n",
              "  const next = steps.next(outputElement.lastPromiseValue);\n",
              "  return Promise.resolve(next.value.promise).then((value) => {\n",
              "    // Cache the last promise value to make it available to the next\n",
              "    // step of the generator.\n",
              "    outputElement.lastPromiseValue = value;\n",
              "    return next.value.response;\n",
              "  });\n",
              "}\n",
              "\n",
              "/**\n",
              " * Generator function which is called between each async step of the upload\n",
              " * process.\n",
              " * @param {string} inputId Element ID of the input file picker element.\n",
              " * @param {string} outputId Element ID of the output display.\n",
              " * @return {!Iterable<!Object>} Iterable of next steps.\n",
              " */\n",
              "function* uploadFilesStep(inputId, outputId) {\n",
              "  const inputElement = document.getElementById(inputId);\n",
              "  inputElement.disabled = false;\n",
              "\n",
              "  const outputElement = document.getElementById(outputId);\n",
              "  outputElement.innerHTML = '';\n",
              "\n",
              "  const pickedPromise = new Promise((resolve) => {\n",
              "    inputElement.addEventListener('change', (e) => {\n",
              "      resolve(e.target.files);\n",
              "    });\n",
              "  });\n",
              "\n",
              "  const cancel = document.createElement('button');\n",
              "  inputElement.parentElement.appendChild(cancel);\n",
              "  cancel.textContent = 'Cancel upload';\n",
              "  const cancelPromise = new Promise((resolve) => {\n",
              "    cancel.onclick = () => {\n",
              "      resolve(null);\n",
              "    };\n",
              "  });\n",
              "\n",
              "  // Wait for the user to pick the files.\n",
              "  const files = yield {\n",
              "    promise: Promise.race([pickedPromise, cancelPromise]),\n",
              "    response: {\n",
              "      action: 'starting',\n",
              "    }\n",
              "  };\n",
              "\n",
              "  cancel.remove();\n",
              "\n",
              "  // Disable the input element since further picks are not allowed.\n",
              "  inputElement.disabled = true;\n",
              "\n",
              "  if (!files) {\n",
              "    return {\n",
              "      response: {\n",
              "        action: 'complete',\n",
              "      }\n",
              "    };\n",
              "  }\n",
              "\n",
              "  for (const file of files) {\n",
              "    const li = document.createElement('li');\n",
              "    li.append(span(file.name, {fontWeight: 'bold'}));\n",
              "    li.append(span(\n",
              "        `(${file.type || 'n/a'}) - ${file.size} bytes, ` +\n",
              "        `last modified: ${\n",
              "            file.lastModifiedDate ? file.lastModifiedDate.toLocaleDateString() :\n",
              "                                    'n/a'} - `));\n",
              "    const percent = span('0% done');\n",
              "    li.appendChild(percent);\n",
              "\n",
              "    outputElement.appendChild(li);\n",
              "\n",
              "    const fileDataPromise = new Promise((resolve) => {\n",
              "      const reader = new FileReader();\n",
              "      reader.onload = (e) => {\n",
              "        resolve(e.target.result);\n",
              "      };\n",
              "      reader.readAsArrayBuffer(file);\n",
              "    });\n",
              "    // Wait for the data to be ready.\n",
              "    let fileData = yield {\n",
              "      promise: fileDataPromise,\n",
              "      response: {\n",
              "        action: 'continue',\n",
              "      }\n",
              "    };\n",
              "\n",
              "    // Use a chunked sending to avoid message size limits. See b/62115660.\n",
              "    let position = 0;\n",
              "    do {\n",
              "      const length = Math.min(fileData.byteLength - position, MAX_PAYLOAD_SIZE);\n",
              "      const chunk = new Uint8Array(fileData, position, length);\n",
              "      position += length;\n",
              "\n",
              "      const base64 = btoa(String.fromCharCode.apply(null, chunk));\n",
              "      yield {\n",
              "        response: {\n",
              "          action: 'append',\n",
              "          file: file.name,\n",
              "          data: base64,\n",
              "        },\n",
              "      };\n",
              "\n",
              "      let percentDone = fileData.byteLength === 0 ?\n",
              "          100 :\n",
              "          Math.round((position / fileData.byteLength) * 100);\n",
              "      percent.textContent = `${percentDone}% done`;\n",
              "\n",
              "    } while (position < fileData.byteLength);\n",
              "  }\n",
              "\n",
              "  // All done.\n",
              "  yield {\n",
              "    response: {\n",
              "      action: 'complete',\n",
              "    }\n",
              "  };\n",
              "}\n",
              "\n",
              "scope.google = scope.google || {};\n",
              "scope.google.colab = scope.google.colab || {};\n",
              "scope.google.colab._files = {\n",
              "  _uploadFiles,\n",
              "  _uploadFilesContinue,\n",
              "};\n",
              "})(self);\n",
              "</script> "
            ]
          },
          "metadata": {}
        },
        {
          "output_type": "stream",
          "name": "stdout",
          "text": [
            "Saving cleaned_ai_responses.csv to cleaned_ai_responses.csv\n",
            "                                         AI Response      Source language  \\\n",
            "0  university admissions are open apply now and s...  ChatGPT 4o       en   \n",
            "1  ready to take the next step university admissi...  ChatGPT 4o       en   \n",
            "2  its time university admissions are open apply ...  ChatGPT 4o       en   \n",
            "3  the wait is over apply now for university admi...  ChatGPT 4o       en   \n",
            "4  university admissions are open take the next s...  ChatGPT 4o       en   \n",
            "\n",
            "                                 Cleaned AI Response  \n",
            "0  university admissions are open apply now and s...  \n",
            "1  ready to take the next step university admissi...  \n",
            "2  its time university admissions are open apply ...  \n",
            "3  the wait is over apply now for university admi...  \n",
            "4  university admissions are open take the next s...  \n"
          ]
        }
      ],
      "source": [
        "#import file\n",
        "\n",
        "\n",
        "from google.colab import files\n",
        "import pandas as pd\n",
        "\n",
        "# Upload the file from your local machine\n",
        "uploaded = files.upload()\n",
        "\n",
        "# Assuming the file is named 'input_updated.csv'\n",
        "df = pd.read_csv('cleaned_ai_responses.csv')\n",
        "print(df.head())"
      ]
    },
    {
      "cell_type": "code",
      "source": [
        "#Install package for Flesch Kincaid and Gunning Fog INdex\n",
        "\n",
        "!pip install textstat"
      ],
      "metadata": {
        "colab": {
          "base_uri": "https://localhost:8080/"
        },
        "id": "Huei5wzzZumf",
        "outputId": "11344143-dbae-457e-94b1-b28797ef8d4b"
      },
      "execution_count": null,
      "outputs": [
        {
          "output_type": "stream",
          "name": "stdout",
          "text": [
            "Collecting textstat\n",
            "  Downloading textstat-0.7.4-py3-none-any.whl.metadata (14 kB)\n",
            "Collecting pyphen (from textstat)\n",
            "  Downloading pyphen-0.17.0-py3-none-any.whl.metadata (3.2 kB)\n",
            "Requirement already satisfied: setuptools in /usr/local/lib/python3.10/dist-packages (from textstat) (75.1.0)\n",
            "Downloading textstat-0.7.4-py3-none-any.whl (105 kB)\n",
            "\u001b[?25l   \u001b[90m━━━━━━━━━━━━━━━━━━━━━━━━━━━━━━━━━━━━━━━━\u001b[0m \u001b[32m0.0/105.1 kB\u001b[0m \u001b[31m?\u001b[0m eta \u001b[36m-:--:--\u001b[0m\r\u001b[2K   \u001b[90m━━━━━━━━━━━━━━━━━━━━━━━━━━━━━━━━━━━━━━━━\u001b[0m \u001b[32m105.1/105.1 kB\u001b[0m \u001b[31m9.4 MB/s\u001b[0m eta \u001b[36m0:00:00\u001b[0m\n",
            "\u001b[?25hDownloading pyphen-0.17.0-py3-none-any.whl (2.1 MB)\n",
            "\u001b[?25l   \u001b[90m━━━━━━━━━━━━━━━━━━━━━━━━━━━━━━━━━━━━━━━━\u001b[0m \u001b[32m0.0/2.1 MB\u001b[0m \u001b[31m?\u001b[0m eta \u001b[36m-:--:--\u001b[0m\r\u001b[2K   \u001b[90m━━━━━━━━━━━━━━━━━━━━━━━━━━━━━━━━━━━━━━━━\u001b[0m \u001b[32m2.1/2.1 MB\u001b[0m \u001b[31m64.5 MB/s\u001b[0m eta \u001b[36m0:00:00\u001b[0m\n",
            "\u001b[?25hInstalling collected packages: pyphen, textstat\n",
            "Successfully installed pyphen-0.17.0 textstat-0.7.4\n"
          ]
        }
      ]
    },
    {
      "cell_type": "code",
      "source": [
        "import pandas as pd\n",
        "import textstat\n",
        "\n",
        "# Sample data: Assuming 'df' has columns 'AI Response' and 'Source'\n",
        "# You can replace the following with loading your actual DataFrame\n",
        "# df = pd.read_csv('your_file.csv')\n",
        "\n",
        "# Example: Calculate Flesch-Kincaid and Gunning Fog scores\n",
        "def get_flesch_kincaid(text):\n",
        "    return textstat.flesch_kincaid_grade(text)\n",
        "\n",
        "def get_gunning_fog(text):\n",
        "    return textstat.gunning_fog(text)\n",
        "\n",
        "# Apply these functions to the 'AI Response' column\n",
        "df['Flesch_Kincaid'] = df['AI Response'].apply(get_flesch_kincaid)\n",
        "df['Gunning_Fog'] = df['AI Response'].apply(get_gunning_fog)\n",
        "\n",
        "# Group by 'Source' (AI channel) and calculate average readability scores\n",
        "readability_by_source = df.groupby('Source')[['Flesch_Kincaid', 'Gunning_Fog']].mean()\n",
        "\n",
        "# Display the results\n",
        "print(readability_by_source)"
      ],
      "metadata": {
        "colab": {
          "base_uri": "https://localhost:8080/"
        },
        "id": "sV8tT0Z2aU8u",
        "outputId": "41b6b45f-9834-46a3-f537-15dc9fc7f320"
      },
      "execution_count": null,
      "outputs": [
        {
          "output_type": "stream",
          "name": "stdout",
          "text": [
            "            Flesch_Kincaid  Gunning_Fog\n",
            "Source                                 \n",
            "ChatGPT 4o       13.128514    16.068785\n",
            "Claude           13.167245    15.994765\n",
            "Gemini           13.064803    15.366661\n",
            "Jasper           12.678995    16.488767\n",
            "Pi               16.129245    19.121635\n"
          ]
        }
      ]
    },
    {
      "cell_type": "code",
      "source": [
        "#Explanation on both measures -- The Flesch-Kincaid score tells you the grade level required to understand the text. Lower scores are better for readability, meaning easier-to-read content.\n",
        "#the Gunning Fog Index measures the complexity of the text, with higher values indicating harder-to-read text."
      ],
      "metadata": {
        "id": "5HG6XjpcaoDl"
      },
      "execution_count": null,
      "outputs": []
    },
    {
      "cell_type": "code",
      "source": [
        "#Visualization\n",
        "\n",
        "import matplotlib.pyplot as plt\n",
        "import seaborn as sns\n",
        "\n",
        "# Reset index for easy plotting\n",
        "readability_by_source = readability_by_source.reset_index()\n",
        "\n",
        "# Plotting Flesch-Kincaid and Gunning Fog scores by AI source\n",
        "plt.figure(figsize=(10, 6))\n",
        "sns.barplot(data=readability_by_source, x='Source', y='Flesch_Kincaid', color='blue', label='Flesch-Kincaid')\n",
        "sns.barplot(data=readability_by_source, x='Source', y='Gunning_Fog', color='green', label='Gunning Fog')\n",
        "\n",
        "plt.title('Readability Scores by AI Source')\n",
        "plt.xlabel('AI Channel')\n",
        "plt.ylabel('Readability Score')\n",
        "plt.legend()\n",
        "plt.tight_layout()\n",
        "plt.show()"
      ],
      "metadata": {
        "colab": {
          "base_uri": "https://localhost:8080/",
          "height": 607
        },
        "id": "4Og_tZs3a-mc",
        "outputId": "d21e9beb-54db-4718-c8ce-4fb7b8728207"
      },
      "execution_count": null,
      "outputs": [
        {
          "output_type": "display_data",
          "data": {
            "text/plain": [
              "<Figure size 1000x600 with 1 Axes>"
            ],
            "image/png": "[encoded data removed]"
          },
          "metadata": {}
        }
      ]
    },
    {
      "cell_type": "code",
      "source": [
        "#Flesch-Kincaid Score:\n",
        "\n",
        "#Pi has the highest Flesch-Kincaid score (16.13), meaning its content is the most complex and would require a higher level of education (about 16th grade level, which is around college level or higher).\n",
        "#Jasper has the lowest Flesch-Kincaid score (12.68), which suggests its content is relatively easier to read compared to the others, likely at a grade level just below high school (approximately 12th grade)."
      ],
      "metadata": {
        "id": "za2qA15VbDwz"
      },
      "execution_count": null,
      "outputs": []
    },
    {
      "cell_type": "code",
      "source": [
        "#Gunning Fog\n",
        "#Pi again has the highest Gunning Fog score (19.12), which makes its content the most difficult to read. Text with a Gunning Fog score of 19 is considered highly complex and may be harder to understand for a general audience.\n",
        "#Gemini has the lowest Gunning Fog score (15.37), meaning its content is somewhat easier to read than the others, though still above the recommended threshold for general accessibility (usually 12 or lower)."
      ],
      "metadata": {
        "id": "WR4f9EEyb9Go"
      },
      "execution_count": null,
      "outputs": []
    },
    {
      "cell_type": "code",
      "source": [
        "#Which channel is easy to read?\n",
        "#Jasper is the easiest to read based on both the Flesch-Kincaid (12.68) and Gunning Fog (16.49) scores. Its content is the least complex and should be easier for a wider audience to engage with."
      ],
      "metadata": {
        "id": "PC_YOWdycKM-"
      },
      "execution_count": null,
      "outputs": []
    },
    {
      "cell_type": "code",
      "source": [
        "#Which channel is hardest to read\n",
        "#Pi is the hardest to read based on both the Flesch-Kincaid (16.13) and Gunning Fog (19.12) scores. Its content is the most complex and could be challenging for many readers to comprehend, which could limit engagement."
      ],
      "metadata": {
        "id": "3xFlwKCucS1l"
      },
      "execution_count": null,
      "outputs": []
    },
    {
      "cell_type": "code",
      "source": [
        "#Recommendations: f the goal is wider audience engagement, Jasper and Gemini would be more effective in terms of readability, and you might want to focus on these channels for social media or marketing posts.#if the goal is to target a niche or specialized audience, Pi might be appropriate despite its more difficult readability, as it might be tailored to more knowledgeable readers.\n",
        "\n",
        "\n"
      ],
      "metadata": {
        "id": "llY-AulCcZMC"
      },
      "execution_count": null,
      "outputs": []
    },
    {
      "cell_type": "code",
      "source": [
        "#Comparing Chatgpt and Gemini\n",
        "#Gemini is marginally easier to read than ChatGPT based on both the Flesch-Kincaid and Gunning Fog scores.\n",
        "#The difference is small enough that, for practical purposes, both can be considered similarly complex for a general audience, but Gemini may have a slight edge in terms of accessibility."
      ],
      "metadata": {
        "id": "lV4Fwdcfcshv"
      },
      "execution_count": null,
      "outputs": []
    },
    {
      "cell_type": "code",
      "source": [],
      "metadata": {
        "id": "9AF4onYwdF6_"
      },
      "execution_count": null,
      "outputs": []
    }
  ]
}